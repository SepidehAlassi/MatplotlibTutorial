{
 "cells": [
  {
   "cell_type": "markdown",
   "metadata": {},
   "source": [
    "# Matplotlib Tutorial EuroSciPy 2016\n",
    "\n",
    "Sepideh Alassi, University of Basel  \n",
    "Susanne Greiner, Würth Phoenix S.r.l."
   ]
  },
  {
   "cell_type": "markdown",
   "metadata": {},
   "source": [
    "## Goals of this Tutorial"
   ]
  },
  {
   "cell_type": "markdown",
   "metadata": {},
   "source": [
    "- **Introduce the basics of Matplotlib**.\n",
    "- **Hands on experience via exercises**, so next time you need a plotting tool you will actually consider to use it."
   ]
  },
  {
   "cell_type": "markdown",
   "metadata": {},
   "source": [
    "## Schedule:"
   ]
  },
  {
   "cell_type": "markdown",
   "metadata": {},
   "source": [
    "**Preliminaries: Setup & introduction**\n",
    "* Making sure your computer is set-up\n",
    "\n",
    "**PART I by Sepideh Alassi**\n",
    "* Basic Plotting\n",
    "    - Line Properties and Formatting\n",
    "    - Legends\n",
    "    - Multiple Plots\n",
    "    - Ticks and Spines\n",
    "* Other Types of Plots\n",
    "    - Bar Plots\n",
    "    - Histograms\n",
    "    - Scatter Plots\n",
    "    - 3D Plots\n",
    "\n",
    "**LUNCH**\n",
    "\n",
    "**PART II by Susanne Greiner**\n",
    "* Handling Images\n",
    "    - Importing Image Data\n",
    "    - Manipulating Image Arrays\n",
    "    - Combining Images\n",
    "    - Interpolation Schemes\n",
    "* Contour Plots\n",
    "    - Contours of Image Arrays\n",
    "    - Contours of Functions\n",
    "    - Contours and **griddata**\n",
    "* Selfie Exercise"
   ]
  },
  {
   "cell_type": "markdown",
   "metadata": {},
   "source": [
    "## Prerequisites"
   ]
  },
  {
   "cell_type": "markdown",
   "metadata": {},
   "source": [
    "This tutorial requires the following packages:\n",
    "\n",
    "- Python version 2.7 or 3.4+\n",
    "- `numpy` version 1.8 or later: http://www.numpy.org/\n",
    "- `scipy` version 0.15 or later: http://www.scipy.org/\n",
    "- `matplotlib` version 1.3 or later: http://matplotlib.org/\n",
    "- `ipython`/`jupyter` version 3.0 or later, with notebook support: http://ipython.org\n",
    "- `Pillow` version 3.0 or later: http://www.pythonware.com/products/pil/\n",
    "\n",
    "The easiest way to get these is to use the [conda](http://store.continuum.io/) environment manager.\n",
    "I suggest downloading and installing [miniconda](http://conda.pydata.org/miniconda.html).\n",
    "\n",
    "The following command will install all required packages:\n",
    "```\n",
    "$ conda install numpy scipy matplotlib ipython-notebook\n",
    "```\n",
    "\n",
    "Alternatively, you can download and install the (very large) Anaconda software distribution, found at https://store.continuum.io/."
   ]
  },
  {
   "cell_type": "markdown",
   "metadata": {},
   "source": [
    "### Checking your installation\n",
    "\n",
    "You can run the following code to check the versions of the packages on your system:\n",
    "\n",
    "(in IPython notebook, press `shift` and `return` together to execute the contents of a cell)"
   ]
  },
  {
   "cell_type": "code",
   "execution_count": 6,
   "metadata": {
    "collapsed": false
   },
   "outputs": [
    {
     "name": "stdout",
     "output_type": "stream",
     "text": [
      "IPython: 4.2.0\n",
      "numpy: 1.11.1\n",
      "scipy: 0.17.1\n",
      "matplotlib: 1.5.1\n",
      "Pillow: 3.2.0\n"
     ]
    }
   ],
   "source": [
    "from __future__ import print_function\n",
    "\n",
    "import IPython\n",
    "print('IPython:', IPython.__version__)\n",
    "\n",
    "import numpy\n",
    "print('numpy:', numpy.__version__)\n",
    "\n",
    "import scipy\n",
    "print('scipy:', scipy.__version__)\n",
    "\n",
    "import matplotlib\n",
    "print('matplotlib:', matplotlib.__version__)\n",
    "\n",
    "import PIL\n",
    "print('Pillow:', PIL.PILLOW_VERSION)"
   ]
  },
  {
   "cell_type": "markdown",
   "metadata": {},
   "source": [
    "## Useful Resources\n",
    "- **matplotlib:** http://matplotlib.org (see especially the gallery section)\n",
    "- **IPython:** http://ipython.org (also check out http://nbviewer.ipython.org)"
   ]
  }
 ],
 "metadata": {
  "anaconda-cloud": {},
  "kernelspec": {
   "display_name": "Python [Root]",
   "language": "python",
   "name": "Python [Root]"
  },
  "language_info": {
   "codemirror_mode": {
    "name": "ipython",
    "version": 3
   },
   "file_extension": ".py",
   "mimetype": "text/x-python",
   "name": "python",
   "nbconvert_exporter": "python",
   "pygments_lexer": "ipython3",
   "version": "3.5.2"
  }
 },
 "nbformat": 4,
 "nbformat_minor": 0
}
