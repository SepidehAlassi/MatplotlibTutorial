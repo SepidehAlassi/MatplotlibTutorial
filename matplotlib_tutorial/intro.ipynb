{
 "cells": [
  {
   "cell_type": "markdown",
   "metadata": {},
   "source": [
    "# Matplotlib Tutorial \n",
    "24.Aug.2016, EuroSciPy 2016, Erlangen  \n",
    "\n",
    "Sepideh Alassi, University of Basel  \n",
    "email: sepideh.alassi@unibas.ch  \n",
    "Susanne Susanne Greiner, Würth Phoenix S.r.l.  \n",
    "email:  Susanne.Greiner@wuerth-phoenix.com"
   ]
  },
  {
   "cell_type": "markdown",
   "metadata": {},
   "source": [
    "## Requirements:\n",
    "* Python 3.+\n",
    "* Jupyter Notebook\n",
    "* Matplotlib\n",
    "* Pyplot\n",
    "* Numpy\n"
   ]
  },
  {
   "cell_type": "markdown",
   "metadata": {},
   "source": [
    "If you use anaconda you can install them with:  \n",
    "conda install numpy matplotlib "
   ]
  },
  {
   "cell_type": "markdown",
   "metadata": {},
   "source": [
    "## Shortcuts:\n",
    "* To run the cells: Shift+Enter\n",
    "* To run the cells and add one new cell below: Alt+Enter\n",
    "* To see the documentation of the function: function_name ?, or help(function_name)\n",
    "* To see the source code of the function: function_name ??\n"
   ]
  },
  {
   "cell_type": "code",
   "execution_count": null,
   "metadata": {
    "collapsed": true
   },
   "outputs": [],
   "source": []
  }
 ],
 "metadata": {
  "anaconda-cloud": {},
  "kernelspec": {
   "display_name": "Python [Root]",
   "language": "python",
   "name": "Python [Root]"
  },
  "language_info": {
   "codemirror_mode": {
    "name": "ipython",
    "version": 3
   },
   "file_extension": ".py",
   "mimetype": "text/x-python",
   "name": "python",
   "nbconvert_exporter": "python",
   "pygments_lexer": "ipython3",
   "version": "3.5.2"
  }
 },
 "nbformat": 4,
 "nbformat_minor": 0
}
