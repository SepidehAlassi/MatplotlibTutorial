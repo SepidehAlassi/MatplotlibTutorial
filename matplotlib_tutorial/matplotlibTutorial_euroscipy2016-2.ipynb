{
 "cells": [
  {
   "cell_type": "markdown",
   "metadata": {},
   "source": [
    "# Matplotlib Tutorial EuroSciPy 2016\n",
    "\n",
    "Sepideh Alassi, University of Basel  \n",
    "Susanne Greiner, Würth Phoenix S.r.l.\n"
   ]
  },
  {
   "cell_type": "markdown",
   "metadata": {},
   "source": [
    "\n",
    "\n",
    "## Part II - Images, Contours & More"
   ]
  },
  {
   "cell_type": "markdown",
   "metadata": {},
   "source": [
    "In order to see the resulting plots, matplotlib should be inlined in the first cell of IPython."
   ]
  },
  {
   "cell_type": "code",
   "execution_count": null,
   "metadata": {
    "collapsed": false
   },
   "outputs": [],
   "source": [
    "%matplotlib inline"
   ]
  },
  {
   "cell_type": "markdown",
   "metadata": {},
   "source": [
    " For handling images in addition to **import matplotlib** and **matplotlib.pyplot** we are going to need **matplotlib.image**"
   ]
  },
  {
   "cell_type": "code",
   "execution_count": null,
   "metadata": {
    "collapsed": false
   },
   "outputs": [],
   "source": [
    "import matplotlib.pyplot as plt\n",
    "import matplotlib.image as mpimg\n",
    "import numpy as np\n"
   ]
  },
  {
   "cell_type": "markdown",
   "metadata": {},
   "source": [
    "### Importing image data into Numpy arrays"
   ]
  },
  {
   "cell_type": "markdown",
   "metadata": {},
   "source": [
    "Loading image data is supported by the Pillow library. Natively, matplotlib only supports PNG images. The commands shown below fall back on Pillow if the native read fails.\n",
    "\n",
    "The image used in this example is a PNG file, but keep that Pillow requirement in mind for your own data.\n",
    "\n",
    "Here are the images we are going to play with:\n",
    "\n",
    "![Erlanger Bergkirchweih](BKW_Erlangen.png)\n",
    "\n",
    "![EuroScipy Logo](ESP_2016.png)"
   ]
  },
  {
   "cell_type": "markdown",
   "metadata": {},
   "source": [
    "### Manipulating image numpy arrays¶"
   ]
  },
  {
   "cell_type": "markdown",
   "metadata": {},
   "source": [
    "The plot object produced by **imshow** gives you an easy way to manipulate the plot from the prompt. Note: you can also plot any numpy array."
   ]
  },
  {
   "cell_type": "code",
   "execution_count": null,
   "metadata": {
    "collapsed": false,
    "scrolled": false
   },
   "outputs": [],
   "source": [
    "img1 = mpimg.imread('BKW_Erlangen.png')\n",
    "img2 = mpimg.imread('ESP_2016.png')\n",
    "\n",
    "print(img1.shape, img2.shape)"
   ]
  },
  {
   "cell_type": "code",
   "execution_count": null,
   "metadata": {
    "collapsed": false
   },
   "outputs": [],
   "source": [
    "imgplot1 = plt.imshow(img1)"
   ]
  },
  {
   "cell_type": "code",
   "execution_count": null,
   "metadata": {
    "collapsed": false
   },
   "outputs": [],
   "source": [
    "img1[0,0:10]"
   ]
  },
  {
   "cell_type": "markdown",
   "metadata": {},
   "source": [
    "It’s a 24-bit RGB PNG image (8 bits for each of R, G, B)."
   ]
  },
  {
   "cell_type": "code",
   "execution_count": null,
   "metadata": {
    "collapsed": false
   },
   "outputs": [],
   "source": [
    "imgplot2 = plt.imshow(img2)"
   ]
  },
  {
   "cell_type": "code",
   "execution_count": null,
   "metadata": {
    "collapsed": false
   },
   "outputs": [],
   "source": [
    "img2[0,0:10]"
   ]
  },
  {
   "cell_type": "markdown",
   "metadata": {},
   "source": [
    "It’s a 32-bit RGBA PNG image (8 bits for each of R, G, B, A). The 4th channel is transparency (alpha), or single-channel grayscale (luminosity)."
   ]
  },
  {
   "cell_type": "markdown",
   "metadata": {},
   "source": [
    "Note the **dtype** - float32. Matplotlib has rescaled the 8 bit data from each channel to floating point data between 0.0 and 1.0.\n",
    "\n",
    "Each inner list represents a pixel. Here, with an RGB image, there are 3 values. Since it’s a black and white image, R, G, and B are all similar. An RGBA (where A is alpha, or transparency), has 4 values per inner list, and a simple luminance image just has one value (and is thus only a 2-D array, not a 3-D array). For RGB and RGBA images, matplotlib supports float32 and uint8 data types. For grayscale, matplotlib supports only float32. If your array data does not meet one of these descriptions, you need to rescale it."
   ]
  },
  {
   "cell_type": "markdown",
   "metadata": {},
   "source": [
    "#### Exercise: Produce an Bergkirchweih image that is semitransparent\n",
    "Hint: it should look like\n",
    "![semitransparent](BKW_semit.png)"
   ]
  },
  {
   "cell_type": "code",
   "execution_count": null,
   "metadata": {
    "collapsed": false
   },
   "outputs": [],
   "source": []
  },
  {
   "cell_type": "markdown",
   "metadata": {},
   "source": [
    "#### Exercise: Produce a Bergkirchweih image that fades on the right (transparency gradient)\n",
    "Hint: it should look like\n",
    "![gradient](BKW_gradient.png)"
   ]
  },
  {
   "cell_type": "code",
   "execution_count": null,
   "metadata": {
    "collapsed": false
   },
   "outputs": [],
   "source": []
  },
  {
   "cell_type": "markdown",
   "metadata": {},
   "source": [
    "#### Exercise: cut a few blank pixels at the border of the SciPy Logo image\n",
    "Hint: you can cut 50 pixels at each side and 100 at the top and the bottom"
   ]
  },
  {
   "cell_type": "code",
   "execution_count": null,
   "metadata": {
    "collapsed": false
   },
   "outputs": [],
   "source": []
  },
  {
   "cell_type": "markdown",
   "metadata": {},
   "source": [
    "#### Applying pseudocolor schemes to image plots¶"
   ]
  },
  {
   "cell_type": "markdown",
   "metadata": {},
   "source": [
    "Pseudocolor can be a useful tool for enhancing contrast and visualizing your data more easily. This is especially useful when making presentations of your data using projectors - their contrast is typically quite poor.\n",
    "\n",
    "Pseudocolor is only relevant to single-channel, grayscale, luminosity images. We currently have an RGB image. So letus just pick one channel of our data:"
   ]
  },
  {
   "cell_type": "code",
   "execution_count": null,
   "metadata": {
    "collapsed": true
   },
   "outputs": [],
   "source": [
    "lum_img2 = img2[:,:,0]"
   ]
  },
  {
   "cell_type": "code",
   "execution_count": null,
   "metadata": {
    "collapsed": false
   },
   "outputs": [],
   "source": [
    "plt.imshow(lum_img2)"
   ]
  },
  {
   "cell_type": "markdown",
   "metadata": {},
   "source": [
    "Now, with a luminosity (2D, no color) image, the default colormap is applied. The default is called **jet**. There are plenty of others to choose from. "
   ]
  },
  {
   "cell_type": "code",
   "execution_count": null,
   "metadata": {
    "collapsed": false
   },
   "outputs": [],
   "source": [
    "# This example comes from the Cookbook on www.scipy.org.  According to the\n",
    "# history, Andrew Straw did the conversion from an old page, but it is\n",
    "# unclear who the original author is.\n",
    "import numpy as np\n",
    "import matplotlib.pyplot as plt\n",
    "\n",
    "a = np.linspace(0, 1, 256).reshape(1,-1)\n",
    "a = np.vstack((a,a))\n",
    "\n",
    "# Get a list of the colormaps in matplotlib.  Ignore the ones that end with\n",
    "# '_r' because these are simply reversed versions of ones that don't end\n",
    "# with '_r'\n",
    "maps = sorted(m for m in plt.cm.datad if not m.endswith(\"_r\"))\n",
    "nmaps = len(maps) + 1\n",
    "\n",
    "fig = plt.figure(figsize=(5,10))\n",
    "fig.subplots_adjust(top=0.99, bottom=0.01, left=0.2, right=0.99)\n",
    "for i,m in enumerate(maps):\n",
    "    ax = plt.subplot(nmaps, 1, i+1)\n",
    "    plt.axis(\"off\")\n",
    "    plt.imshow(a, aspect='auto', cmap=plt.get_cmap(m), origin='lower')\n",
    "    pos = list(ax.get_position().bounds)\n",
    "    fig.text(pos[0] - 0.01, pos[1], m, fontsize=10, horizontalalignment='right')\n",
    "\n",
    "plt.show()"
   ]
  },
  {
   "cell_type": "markdown",
   "metadata": {},
   "source": [
    "Soon in matplotlib 2.0 the default colormap is going to change. The new default colormap is called **'viridis'**. Fur further information have a look at https://youtu.be/xAoljeRJ3lU"
   ]
  },
  {
   "cell_type": "code",
   "execution_count": null,
   "metadata": {
    "collapsed": false
   },
   "outputs": [],
   "source": [
    "plt.imshow(lum_img2, cmap ='viridis')"
   ]
  },
  {
   "cell_type": "code",
   "execution_count": null,
   "metadata": {
    "collapsed": true
   },
   "outputs": [],
   "source": [
    "####Exercise: apply a colormap of your choice to both images"
   ]
  },
  {
   "cell_type": "code",
   "execution_count": null,
   "metadata": {
    "collapsed": false
   },
   "outputs": [],
   "source": [
    "plt.imshow(lum_img2, cmap=\"hot\")"
   ]
  },
  {
   "cell_type": "markdown",
   "metadata": {},
   "source": [
    "Given the grayscale the result would have been the same for any of the SciPy Logo's color channels. Let us try how this changes with the RGB image?"
   ]
  },
  {
   "cell_type": "code",
   "execution_count": null,
   "metadata": {
    "collapsed": false
   },
   "outputs": [],
   "source": [
    "fig = plt.figure(figsize = (20,6))\n",
    "plt.subplot(1,3,1)\n",
    "plt.imshow(img1[:,:,0], cmap=\"hot\")\n",
    "plt.title('red')\n",
    "plt.subplot(1,3,2)\n",
    "plt.imshow(img1[:,:,1], cmap=\"hot\")\n",
    "plt.title('green')\n",
    "plt.subplot(1,3,3)\n",
    "plt.imshow(img1[:,:,2], cmap=\"hot\")\n",
    "plt.title('blue')\n"
   ]
  },
  {
   "cell_type": "markdown",
   "metadata": {},
   "source": [
    "Note that you can also change colormaps on existing plot objects using the set_cmap() method:"
   ]
  },
  {
   "cell_type": "code",
   "execution_count": null,
   "metadata": {
    "collapsed": false
   },
   "outputs": [],
   "source": [
    "lum_img1 = img1[:,:,1]\n",
    "imgplot1 = plt.imshow(lum_img1)\n",
    "imgplot1.set_cmap('spectral')"
   ]
  },
  {
   "cell_type": "markdown",
   "metadata": {},
   "source": [
    "#### Color scale reference"
   ]
  },
  {
   "cell_type": "markdown",
   "metadata": {},
   "source": [
    "It’s helpful to have an idea of what value a color represents. We can do that by adding color bars."
   ]
  },
  {
   "cell_type": "code",
   "execution_count": null,
   "metadata": {
    "collapsed": false
   },
   "outputs": [],
   "source": [
    "imgplot1 = plt.imshow(lum_img1,'spectral')\n",
    "plt.colorbar()"
   ]
  },
  {
   "cell_type": "markdown",
   "metadata": {},
   "source": [
    "#### Examining a specific data range¶"
   ]
  },
  {
   "cell_type": "markdown",
   "metadata": {},
   "source": [
    "Sometimes you want to enhance the contrast in your image, or expand the contrast in a particular region while sacrificing the detail in colors that don’t vary much, or don’t matter. A good tool to find interesting regions is the histogram. To create a histogram of our image data, we use the **hist()** function."
   ]
  },
  {
   "cell_type": "code",
   "execution_count": null,
   "metadata": {
    "collapsed": false
   },
   "outputs": [],
   "source": [
    "hist1 = plt.hist(lum_img1.ravel(), bins=256, range=(0.0, 1.0), fc='k', ec='k')"
   ]
  },
  {
   "cell_type": "code",
   "execution_count": null,
   "metadata": {
    "collapsed": false
   },
   "outputs": [],
   "source": [
    "fig = plt.figure(figsize =(15,6))\n",
    "plt.subplot(1,2,1)\n",
    "imgplot1 = plt.imshow(lum_img1, cmap='hot')\n",
    "plt.subplot(1,2,2)\n",
    "imgplot1 = plt.imshow(lum_img1, cmap='hot', clim=(0.1, 0.7))"
   ]
  },
  {
   "cell_type": "markdown",
   "metadata": {},
   "source": [
    "#### Exercise: Use **hist** and **clim** to make the euroscipy  symbol (lum_img2) disappear\n",
    "Hint: it should look like \n",
    "![hide](ESP_hide.png)"
   ]
  },
  {
   "cell_type": "code",
   "execution_count": null,
   "metadata": {
    "collapsed": false
   },
   "outputs": [],
   "source": []
  },
  {
   "cell_type": "code",
   "execution_count": null,
   "metadata": {
    "collapsed": false
   },
   "outputs": [],
   "source": []
  },
  {
   "cell_type": "markdown",
   "metadata": {},
   "source": [
    "#### Combining Images"
   ]
  },
  {
   "cell_type": "markdown",
   "metadata": {},
   "source": [
    "Arrays can be summed or combined in any other mathematical way and the result plotted again. This might be used for example for watermarks."
   ]
  },
  {
   "cell_type": "code",
   "execution_count": null,
   "metadata": {
    "collapsed": false
   },
   "outputs": [],
   "source": [
    "lum_img_comb1 = (lum_img1 + lum_img2)/2.\n",
    "plt.imshow(lum_img_comb1, cmap='hot')"
   ]
  },
  {
   "cell_type": "markdown",
   "metadata": {},
   "source": [
    "#### Exercise: merge an RGB img1 and a white EuroScipy img2\n",
    "Hint: it should look like\n",
    "![merge](merge.png)"
   ]
  },
  {
   "cell_type": "code",
   "execution_count": null,
   "metadata": {
    "collapsed": false
   },
   "outputs": [],
   "source": [
    "lum_img_comb2 = lum_img1.copy()\n",
    "lum_img_comb2[lum_img2 < 1] = 1\n",
    "plt.imshow(lum_img_comb2, cmap='hot')"
   ]
  },
  {
   "cell_type": "markdown",
   "metadata": {},
   "source": [
    "#### Array Interpolation schemes¶"
   ]
  },
  {
   "cell_type": "markdown",
   "metadata": {},
   "source": [
    "Interpolation calculates what the color or value of a pixel “should” be, according to different mathematical schemes. One common place that this happens is when you resize an image. The number of pixels change, but you want the same information. Since pixels are discrete, there’s missing space. Interpolation is how you fill that space. This is why your images sometimes come out looking pixelated when you blow them up. The effect is more pronounced when the difference between the original image and the expanded image is greater. Let’s take our image and shrink it. We’re effectively discarding pixels, only keeping a select few. Now when we plot it, that data gets blown up to the size on your screen. The old pixels aren’t there anymore, and the computer has to draw in pixels to fill that space.\n",
    "\n",
    "We’ll use the Pillow library that we used to load the image also to resize the image."
   ]
  },
  {
   "cell_type": "code",
   "execution_count": null,
   "metadata": {
    "collapsed": false
   },
   "outputs": [],
   "source": [
    "from PIL import Image\n",
    "img1r = Image.open('BKW_Erlangen.png')\n",
    "img1r.thumbnail((64, 64), Image.ANTIALIAS) # resizes image in-place\n",
    "imgplot1a = plt.imshow(img1r)\n"
   ]
  },
  {
   "cell_type": "markdown",
   "metadata": {},
   "source": [
    "Here we have the default interpolation, bilinear, since we did not give imshow() any interpolation argument.\n",
    "\n",
    "Let’s try some others:"
   ]
  },
  {
   "cell_type": "code",
   "execution_count": null,
   "metadata": {
    "collapsed": false
   },
   "outputs": [],
   "source": [
    "imgplot1b = plt.imshow(img1r, interpolation=\"nearest\")"
   ]
  },
  {
   "cell_type": "code",
   "execution_count": null,
   "metadata": {
    "collapsed": false
   },
   "outputs": [],
   "source": [
    "imgplot1c = plt.imshow(img1r, interpolation=\"bicubic\")"
   ]
  },
  {
   "cell_type": "markdown",
   "metadata": {},
   "source": [
    "#### Exercise: place a small symbol of img2 in img1 (right bottom corner)\n",
    "Hint: it might look like \n",
    "![picinpic](picinpic.png)"
   ]
  },
  {
   "cell_type": "code",
   "execution_count": null,
   "metadata": {
    "collapsed": false
   },
   "outputs": [],
   "source": []
  },
  {
   "cell_type": "markdown",
   "metadata": {},
   "source": [
    "### Contours and Surfaces"
   ]
  },
  {
   "cell_type": "markdown",
   "metadata": {},
   "source": [
    "**contour()** and **contourf()** draw contour lines and filled contours, respectively. Except as noted, function signatures and return values are the same for both versions.\n",
    "\n",
    "**contourf()** differs from the MATLAB version in that it does not draw the polygon edges. To draw edges, add line contours with calls to **contour()**."
   ]
  },
  {
   "cell_type": "markdown",
   "metadata": {},
   "source": [
    "#### Contours of an Image"
   ]
  },
  {
   "cell_type": "code",
   "execution_count": null,
   "metadata": {
    "collapsed": false
   },
   "outputs": [],
   "source": [
    "C = plt.contourf(lum_img2, 8, alpha=.75, cmap='spectral')\n"
   ]
  },
  {
   "cell_type": "code",
   "execution_count": null,
   "metadata": {
    "collapsed": false
   },
   "outputs": [],
   "source": [
    "import numpy as np\n",
    "c_img2 = np.flipud(lum_img2)"
   ]
  },
  {
   "cell_type": "code",
   "execution_count": null,
   "metadata": {
    "collapsed": false
   },
   "outputs": [],
   "source": [
    "C = plt.contourf(c_img2, 8, alpha=.75, cmap='spectral')\n",
    "C2 = plt.contour(c_img2, 8, colors='black', linewidth=.2)\n",
    "\n"
   ]
  },
  {
   "cell_type": "code",
   "execution_count": null,
   "metadata": {
    "collapsed": false
   },
   "outputs": [],
   "source": [
    "C = plt.contourf(np.flipud(lum_img1), 8, cmap='hot')\n",
    "cbar = plt.colorbar()\n",
    "\n"
   ]
  },
  {
   "cell_type": "code",
   "execution_count": null,
   "metadata": {
    "collapsed": false
   },
   "outputs": [],
   "source": [
    "C = plt.contourf(np.flipud(lum_img1), levels = [0,0.1,0.5, 0.8,1], cmap='hot')\n",
    "cbar = plt.colorbar()\n",
    "\n"
   ]
  },
  {
   "cell_type": "markdown",
   "metadata": {
    "collapsed": false
   },
   "source": [
    "#### Exercise: save the Bergkirchweih image with only 5 colors of your choice\n",
    "Hint: it might look like\n",
    "![test](test.png)"
   ]
  },
  {
   "cell_type": "code",
   "execution_count": null,
   "metadata": {
    "collapsed": false
   },
   "outputs": [],
   "source": []
  },
  {
   "cell_type": "markdown",
   "metadata": {},
   "source": [
    "#### Contour of Arrays"
   ]
  },
  {
   "cell_type": "markdown",
   "metadata": {},
   "source": [
    "There are many ways to plot an array. Especially for functions #D plots or contours are quite common."
   ]
  },
  {
   "cell_type": "code",
   "execution_count": null,
   "metadata": {
    "collapsed": false
   },
   "outputs": [],
   "source": [
    "def f(x,y):\n",
    "    return -(x+y)*np.exp(-x**2 -y**2)\n",
    "\n",
    "from mpl_toolkits.mplot3d import Axes3D\n",
    "\n",
    "n = 256\n",
    "x = np.linspace(-3, 3, n)\n",
    "y = np.linspace(-3, 3, n)\n",
    "X,Y = np.meshgrid(x, y)\n",
    "\n",
    "fig = plt.figure()\n",
    "ax = Axes3D(fig)\n",
    "ax.plot_surface(X, Y, f(X, Y), cmap='jet')\n"
   ]
  },
  {
   "cell_type": "markdown",
   "metadata": {},
   "source": [
    "A simple contourplot could look like this"
   ]
  },
  {
   "cell_type": "code",
   "execution_count": null,
   "metadata": {
    "collapsed": false
   },
   "outputs": [],
   "source": [
    "n = 256\n",
    "x = np.linspace(-3, 3, n)\n",
    "y = np.linspace(-3, 3, n)\n",
    "X,Y = np.meshgrid(x, y)\n",
    "\n",
    "plt.contour(X, Y, f(X, Y), 8, cmap='jet')\n",
    "plt.colorbar()\n",
    "\n",
    "plt.xticks(())\n",
    "plt.yticks(())\n"
   ]
  },
  {
   "cell_type": "markdown",
   "metadata": {
    "collapsed": true
   },
   "source": [
    "Instead of the colorbar legend values inside the plot might be handy."
   ]
  },
  {
   "cell_type": "code",
   "execution_count": null,
   "metadata": {
    "collapsed": false
   },
   "outputs": [],
   "source": [
    "n = 256\n",
    "x = np.linspace(-3, 3, n)\n",
    "y = np.linspace(-3, 3, n)\n",
    "X,Y = np.meshgrid(x, y)\n",
    "\n",
    "\n",
    "C = plt.contour(X, Y, f(X, Y), 8, cmap='jet', linewidth=.5)\n",
    "plt.colorbar()\n",
    "plt.clabel(C, inline=1, fontsize=10)\n",
    "\n",
    "plt.xticks(())\n",
    "plt.yticks(())\n"
   ]
  },
  {
   "cell_type": "markdown",
   "metadata": {
    "collapsed": true
   },
   "source": [
    "It can be filled."
   ]
  },
  {
   "cell_type": "code",
   "execution_count": null,
   "metadata": {
    "collapsed": false
   },
   "outputs": [],
   "source": [
    "n = 256\n",
    "x = np.linspace(-3, 3, n)\n",
    "y = np.linspace(-3, 3, n)\n",
    "X,Y = np.meshgrid(x, y)\n",
    "\n",
    "\n",
    "C = plt.contourf(X, Y, f(X, Y), 8, cmap='jet')\n",
    "cbar = plt.colorbar()\n",
    "C = plt.contour(X, Y, f(X, Y), 8, colors='black', linewidth=.5)\n",
    "clabel = plt.clabel(C, inline=1, fontsize=10)\n",
    "\n",
    "plt.xticks(())\n",
    "plt.yticks(())"
   ]
  },
  {
   "cell_type": "markdown",
   "metadata": {
    "collapsed": true
   },
   "source": [
    "Another way of filling."
   ]
  },
  {
   "cell_type": "code",
   "execution_count": null,
   "metadata": {
    "collapsed": false
   },
   "outputs": [],
   "source": [
    "n = 256\n",
    "x = np.linspace(-3, 3, n)\n",
    "y = np.linspace(-3, 3, n)\n",
    "X,Y = np.meshgrid(x, y)\n",
    "\n",
    "\n",
    "C = plt.pcolor(X, Y, f(X, Y), alpha= 0.5, cmap='jet')\n",
    "cbar = plt.colorbar()\n",
    "C = plt.contour(X, Y, f(X, Y), 8, colors='black', linewidth=.5)\n",
    "clabel = plt.clabel(C, inline=1, fontsize=10)\n",
    "\n",
    "plt.xticks(())\n",
    "plt.yticks(())"
   ]
  },
  {
   "cell_type": "markdown",
   "metadata": {},
   "source": [
    "#### Exercise: make the level lines thicker and darker with increasing values\n",
    "Hint: it could look like\n",
    "![contour](contour.png)"
   ]
  },
  {
   "cell_type": "code",
   "execution_count": null,
   "metadata": {
    "collapsed": false
   },
   "outputs": [],
   "source": []
  },
  {
   "cell_type": "markdown",
   "metadata": {},
   "source": [
    "Usually you do not know the function but measure some metrics."
   ]
  },
  {
   "cell_type": "code",
   "execution_count": null,
   "metadata": {
    "collapsed": false
   },
   "outputs": [],
   "source": [
    "n = 256\n",
    "x = np.linspace(-3, 3, n)\n",
    "y = np.linspace(-3, 3, n)\n",
    "x_rand = np.random.randint(256, size = 100)\n",
    "y_rand = np.random.randint(256, size = 100)\n",
    "\n",
    "cols = []\n",
    "for i in range(100):\n",
    "    cols.append(f(x[x_rand[i]], y[y_rand[i]]))\n",
    "\n",
    "plt.scatter(x[x_rand], y[y_rand], color = plt.cm.jet((cols+abs(min(cols)))/(max(cols)+abs(min(cols)))))"
   ]
  },
  {
   "cell_type": "markdown",
   "metadata": {},
   "source": [
    "You might to interpolate a linearly spaced grid from the measurements so you can plot the data."
   ]
  },
  {
   "cell_type": "code",
   "execution_count": null,
   "metadata": {
    "collapsed": false
   },
   "outputs": [],
   "source": [
    "n = 256\n",
    "x = np.linspace(-3, 3, n)\n",
    "y = np.linspace(-3, 3, n)\n",
    "x_rand = np.random.randint(256, size = 100)\n",
    "y_rand = np.random.randint(256, size = 100)\n",
    "\n",
    "from scipy.interpolate import griddata\n",
    "def grid(x, y, z, n):\n",
    "    xi = np.linspace(-3, 3, n)\n",
    "    yi = np.linspace(-3, 3, n)\n",
    "    \n",
    "    Z = griddata((x, y), z, (xi[None, :], yi[:, None]), method='cubic')\n",
    "    X, Y = np.meshgrid(xi, yi)\n",
    "    return X, Y, Z\n",
    "\n",
    "X, Y, Z = grid(x[x_rand], y[y_rand], f(x[x_rand], y[y_rand]), n)\n",
    "C = plt.contourf(X, Y, Z, 8, cmap='jet')\n"
   ]
  },
  {
   "cell_type": "markdown",
   "metadata": {},
   "source": [
    "### Bonus Exercise"
   ]
  },
  {
   "cell_type": "markdown",
   "metadata": {},
   "source": [
    "#### Face Symmetry: The angel and the devil in you..."
   ]
  },
  {
   "cell_type": "markdown",
   "metadata": {},
   "source": [
    "Make a symmetric selfie and safe it in the same folder as the Jupyter Notebook. Find the center of your face. Do a subplot containing one the right half of your face and a flipped right half on the left and a subplot containing the left half of your face and a flipped left half on the right. Do you look like a close relative? Do you like one side better than the other? Have fun with exchanging your better halfs!\n",
    "Hint: it might look like \n",
    "![f_symmetry](f_symmetry.png)"
   ]
  },
  {
   "cell_type": "code",
   "execution_count": null,
   "metadata": {
    "collapsed": false
   },
   "outputs": [],
   "source": [
    "\n"
   ]
  },
  {
   "cell_type": "code",
   "execution_count": null,
   "metadata": {
    "collapsed": true
   },
   "outputs": [],
   "source": []
  }
 ],
 "metadata": {
  "anaconda-cloud": {},
  "kernelspec": {
   "display_name": "Python [Root]",
   "language": "python",
   "name": "Python [Root]"
  },
  "language_info": {
   "codemirror_mode": {
    "name": "ipython",
    "version": 3
   },
   "file_extension": ".py",
   "mimetype": "text/x-python",
   "name": "python",
   "nbconvert_exporter": "python",
   "pygments_lexer": "ipython3",
   "version": "3.5.2"
  }
 },
 "nbformat": 4,
 "nbformat_minor": 0
}
